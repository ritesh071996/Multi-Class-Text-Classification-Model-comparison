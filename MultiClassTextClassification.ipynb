{
 "cells": [
  {
   "cell_type": "markdown",
   "metadata": {},
   "source": [
    "Ref : https://towardsdatascience.com/multi-class-text-classification-model-comparison-and-selection-5eb066197568"
   ]
  },
  {
   "cell_type": "code",
   "execution_count": 7,
   "metadata": {},
   "outputs": [],
   "source": [
    "import logging\n",
    "import pandas as pd\n",
    "import numpy as np\n",
    "from numpy import random\n",
    "import gensim\n",
    "import nltk\n",
    "from nltk.corpus import stopwords\n",
    "from sklearn.model_selection import train_test_split\n",
    "from sklearn.feature_extraction.text import CountVectorizer, TfidfVectorizer\n",
    "from sklearn.metrics import accuracy_score, confusion_matrix\n",
    "import re\n",
    "from bs4 import BeautifulSoup\n",
    "import matplotlib.pyplot as plt\n",
    "%matplotlib inline"
   ]
  },
  {
   "cell_type": "code",
   "execution_count": 12,
   "metadata": {},
   "outputs": [],
   "source": [
    "df = pd.read_csv(\"stack-overflow-data.csv\")\n",
    "df.head(2)"
   ]
  },
  {
   "cell_type": "code",
   "execution_count": 19,
   "metadata": {},
   "outputs": [
    {
     "name": "stdout",
     "output_type": "stream",
     "text": [
      "                                                post         tags\n",
      "0  what is causing this behavior  in our c# datet...           c#\n",
      "1  have dynamic html load as if it was in an ifra...      asp.net\n",
      "2  how to convert a float value in to min:sec  i ...  objective-c\n",
      "3  .net framework 4 redistributable  just wonderi...         .net\n",
      "4  trying to calculate and print the mean and its...       python\n",
      "10286120\n"
     ]
    }
   ],
   "source": [
    "# check null values and boolean series return, TRUE for notnull(), false for null\n",
    "df = df[pd.notnull(df['tags'])]\n",
    "print(df.head())\n",
    "print(df[\"post\"].apply(lambda x : len(x.split(' '))).sum())"
   ]
  },
  {
   "cell_type": "markdown",
   "metadata": {},
   "source": [
    "We have over 10 million words in the data"
   ]
  },
  {
   "cell_type": "code",
   "execution_count": 24,
   "metadata": {
    "scrolled": false
   },
   "outputs": [
    {
     "data": {
      "text/plain": [
       "javascript       2000\n",
       "ruby-on-rails    2000\n",
       "android          2000\n",
       "c++              2000\n",
       "java             2000\n",
       "mysql            2000\n",
       "c#               2000\n",
       "jquery           2000\n",
       "c                2000\n",
       "html             2000\n",
       "python           2000\n",
       "sql              2000\n",
       "iphone           2000\n",
       "ios              2000\n",
       "objective-c      2000\n",
       "asp.net          2000\n",
       "angularjs        2000\n",
       "php              2000\n",
       "css              2000\n",
       ".net             2000\n",
       "Name: tags, dtype: int64"
      ]
     },
     "execution_count": 24,
     "metadata": {},
     "output_type": "execute_result"
    }
   ],
   "source": [
    "df[\"tags\"].value_counts()"
   ]
  },
  {
   "cell_type": "code",
   "execution_count": 27,
   "metadata": {},
   "outputs": [
    {
     "data": {
      "image/png": "[encoded data removed]",
      "text/plain": [
       "<Figure size 432x216 with 1 Axes>"
      ]
     },
     "metadata": {
      "needs_background": "light"
     },
     "output_type": "display_data"
    }
   ],
   "source": [
    "my_tags = [\"javascript\",\"ruby-on-rails\",\"android\",\"c++\",\"java\",\n",
    "          \"mysql\",\"c#\",\"jquery\",\"c\",\"html\",\n",
    "          \"python\",\"sql\",\"iphone\",\"ios\",\"objective-c\",\n",
    "          \"asp.net\",\"angularjs\",\"php\",\"css\",\".net\"]\n",
    "\n",
    "plt.figure(figsize =( 6,3))\n",
    "df.tags.value_counts().plot(kind='bar');"
   ]
  },
  {
   "cell_type": "code",
   "execution_count": 33,
   "metadata": {},
   "outputs": [
    {
     "name": "stdout",
     "output_type": "stream",
     "text": [
      "how to convert a float value in to min:sec  i m trying to convert my second in min:sec. my code is:    <pre><code>- (ibaction)calcola:(id)sender  {     float grandezzakb= [[fieldgrandezza text] floatvalue];     float velocitambps= [[fieldvelocita text] floatvalue] ;     float grandezzamb= grandezzakb*1000;     float velocitakb = velocitambps*128;     float seconditotali = grandezzamb/velocitakb;     float min = seconditotali / 60;      nsstring *risultato = [nsstring stringwithformat:@ %.02f minuti   min];      [labelrisultato settext:risultato]; } </code></pre>   sorry if it isn t english but i m italian :d someone can help me  i ve already tried with the mod but it doesn t work with float :( sorry if the code isn t perfect  but i m a newbie :)\n",
      "Tag: objective-c\n"
     ]
    }
   ],
   "source": [
    "def print_plot(index):\n",
    "    example = df[df.index == index][['post', 'tags']].values[0]\n",
    "    if len(example) > 0:\n",
    "        print(example[0])\n",
    "        print(\"Tag:\", example[1])"
   ]
  },
  {
   "cell_type": "code",
   "execution_count": 34,
   "metadata": {},
   "outputs": [
    {
     "name": "stdout",
     "output_type": "stream",
     "text": [
      "how to convert a float value in to min:sec  i m trying to convert my second in min:sec. my code is:    <pre><code>- (ibaction)calcola:(id)sender  {     float grandezzakb= [[fieldgrandezza text] floatvalue];     float velocitambps= [[fieldvelocita text] floatvalue] ;     float grandezzamb= grandezzakb*1000;     float velocitakb = velocitambps*128;     float seconditotali = grandezzamb/velocitakb;     float min = seconditotali / 60;      nsstring *risultato = [nsstring stringwithformat:@ %.02f minuti   min];      [labelrisultato settext:risultato]; } </code></pre>   sorry if it isn t english but i m italian :d someone can help me  i ve already tried with the mod but it doesn t work with float :( sorry if the code isn t perfect  but i m a newbie :)\n",
      "Tag: objective-c\n"
     ]
    }
   ],
   "source": [
    "print_plot(2)"
   ]
  },
  {
   "cell_type": "code",
   "execution_count": 36,
   "metadata": {},
   "outputs": [
    {
     "name": "stdout",
     "output_type": "stream",
     "text": [
      ".net framework 4 redistributable  just wondering where we can get .net framework 4 beta redistributable. we would like to include it in our cd so we can distribute it to our clients and they need to install it from the cd and not from web as it is not necessary to have internet for our application. any suggestions will be appreciated. thanks navin\n",
      "Tag: .net\n"
     ]
    }
   ],
   "source": [
    "print_plot(3)"
   ]
  },
  {
   "cell_type": "markdown",
   "metadata": {},
   "source": [
    "# Text Preprocessing"
   ]
  },
  {
   "cell_type": "code",
   "execution_count": 41,
   "metadata": {},
   "outputs": [
    {
     "name": "stdout",
     "output_type": "stream",
     "text": [
      "net framework 4 redistributable wondering get net framework 4 beta redistributable would like include cd distribute clients need install cd web necessary internet application suggestions appreciated thanks navin\n",
      "Tag: .net\n"
     ]
    }
   ],
   "source": [
    "REPLACE_BY_SPACE_RE = re.compile('[/(){}\\[\\]\\|@,;]')\n",
    "BAD_SYMBOLS_RE = re.compile('[^0-9a-z #+_]')\n",
    "STOPWORDS = set(stopwords.words('english'))\n",
    "\n",
    "def clean_text(text):\n",
    "    text = BeautifulSoup(text, \"lxml\").text# HTML decoding\n",
    "    text = text.lower()\n",
    "    text = REPLACE_BY_SPACE_RE.sub(\" \", text)# replace REPLACE_BY_SPACE_RE symbols by space in text\n",
    "    text = BAD_SYMBOLS_RE.sub('', text)# delete symbols which are in BAD_SYMBOLS_RE from text\n",
    "    text = ' '.join(word for word in text.split() if word not in STOPWORDS)# delete stopwords from text\n",
    "    return text\n",
    "\n",
    "df[\"post\"] = df[\"post\"].apply(clean_text)\n",
    "print_plot(3)"
   ]
  },
  {
   "cell_type": "markdown",
   "metadata": {},
   "source": [
    "Now we can have a look a cleaned post:"
   ]
  },
  {
   "cell_type": "code",
   "execution_count": 43,
   "metadata": {},
   "outputs": [
    {
     "data": {
      "text/plain": [
       "3424297"
      ]
     },
     "execution_count": 43,
     "metadata": {},
     "output_type": "execute_result"
    }
   ],
   "source": [
    "df['post'].apply(lambda x: len(x.split(' '))).sum()"
   ]
  },
  {
   "cell_type": "markdown",
   "metadata": {},
   "source": [
    "After text cleaning and removing stop words , we have only over 3 million words to work with "
   ]
  },
  {
   "cell_type": "code",
   "execution_count": 45,
   "metadata": {},
   "outputs": [],
   "source": [
    "# will convert over text document to a matrix of token count (CountVectorizer)\n",
    "# then transform a counts matrix to a normalised tfidf representation.\n",
    "\n",
    "X = df.post\n",
    "y = df.tags\n",
    "\n",
    "X_train, X_test, y_train, y_test = train_test_split(X, y, test_size = 0.3, random_state = 42)"
   ]
  },
  {
   "cell_type": "markdown",
   "metadata": {},
   "source": [
    "To make the vectorizer => transformer => classifier easier to work with, we will use Pipeline class in Scilkit-Learn that behaves like a compound classifier"
   ]
  },
  {
   "cell_type": "code",
   "execution_count": 49,
   "metadata": {},
   "outputs": [
    {
     "name": "stdout",
     "output_type": "stream",
     "text": [
      "Accuracy Score: 0.7395\n",
      "Classification Report:\n",
      "                precision    recall  f1-score   support\n",
      "\n",
      "   javascript       0.63      0.65      0.64       613\n",
      "ruby-on-rails       0.94      0.86      0.90       620\n",
      "      android       0.87      0.92      0.90       587\n",
      "          c++       0.70      0.77      0.73       586\n",
      "         java       0.73      0.87      0.79       599\n",
      "        mysql       0.72      0.51      0.60       589\n",
      "           c#       0.77      0.74      0.75       594\n",
      "       jquery       0.69      0.89      0.78       610\n",
      "            c       0.63      0.59      0.61       617\n",
      "         html       0.57      0.65      0.60       587\n",
      "       python       0.70      0.50      0.59       611\n",
      "          sql       0.79      0.78      0.79       594\n",
      "       iphone       0.84      0.59      0.69       619\n",
      "          ios       0.66      0.84      0.74       574\n",
      "  objective-c       0.64      0.83      0.72       584\n",
      "      asp.net       0.66      0.64      0.65       578\n",
      "    angularjs       0.79      0.77      0.78       591\n",
      "          php       0.89      0.83      0.86       608\n",
      "          css       0.94      0.89      0.91       638\n",
      "         .net       0.74      0.66      0.70       601\n",
      "\n",
      "    micro avg       0.74      0.74      0.74     12000\n",
      "    macro avg       0.74      0.74      0.74     12000\n",
      " weighted avg       0.75      0.74      0.74     12000\n",
      "\n"
     ]
    }
   ],
   "source": [
    "#Naive Bayes Classifier for Multinomial Models\n",
    "\n",
    "from sklearn.naive_bayes import MultinomialNB\n",
    "from sklearn.feature_extraction.text import TfidfTransformer\n",
    "from sklearn.pipeline import Pipeline\n",
    "\n",
    "nb = Pipeline([('vect', CountVectorizer()),\n",
    "              ('tfidf', TfidfTransformer()),\n",
    "              ('clf', MultinomialNB())\n",
    "              ])\n",
    "\n",
    "nb.fit(X_train, y_train)\n",
    "\n",
    "y_pred = nb.predict(X_test)\n",
    "\n",
    "from sklearn.metrics import classification_report\n",
    "\n",
    "print(\"Accuracy Score:\", accuracy_score(y_test, y_pred))\n",
    "print(\"Classification Report:\\n\", classification_report(y_test, y_pred, target_names=my_tags))"
   ]
  },
  {
   "cell_type": "code",
   "execution_count": 50,
   "metadata": {},
   "outputs": [
    {
     "name": "stderr",
     "output_type": "stream",
     "text": [
      "C:\\ProgramData\\Anaconda3\\lib\\site-packages\\sklearn\\linear_model\\stochastic_gradient.py:183: FutureWarning: max_iter and tol parameters have been added in SGDClassifier in 0.19. If max_iter is set but tol is left unset, the default value for tol in 0.19 and 0.20 will be None (which is equivalent to -infinity, so it has no effect) but will change in 0.21 to 1e-3. Specify tol to silence this warning.\n",
      "  FutureWarning)\n"
     ]
    },
    {
     "name": "stdout",
     "output_type": "stream",
     "text": [
      "accuracy 0.7883333333333333\n",
      "               precision    recall  f1-score   support\n",
      "\n",
      "   javascript       0.74      0.67      0.70       613\n",
      "ruby-on-rails       0.84      0.93      0.88       620\n",
      "      android       0.87      0.95      0.91       587\n",
      "          c++       0.81      0.80      0.81       586\n",
      "         java       0.74      0.88      0.81       599\n",
      "        mysql       0.76      0.40      0.52       589\n",
      "           c#       0.83      0.68      0.75       594\n",
      "       jquery       0.70      0.95      0.81       610\n",
      "            c       0.82      0.56      0.66       617\n",
      "         html       0.72      0.59      0.65       587\n",
      "       python       0.71      0.65      0.68       611\n",
      "          sql       0.81      0.87      0.84       594\n",
      "       iphone       0.76      0.79      0.78       619\n",
      "          ios       0.83      0.86      0.85       574\n",
      "  objective-c       0.82      0.80      0.81       584\n",
      "      asp.net       0.70      0.68      0.69       578\n",
      "    angularjs       0.80      0.90      0.85       591\n",
      "          php       0.84      0.96      0.89       608\n",
      "          css       0.87      0.95      0.91       638\n",
      "         .net       0.77      0.89      0.83       601\n",
      "\n",
      "    micro avg       0.79      0.79      0.79     12000\n",
      "    macro avg       0.79      0.79      0.78     12000\n",
      " weighted avg       0.79      0.79      0.78     12000\n",
      "\n"
     ]
    }
   ],
   "source": [
    "# Linear Support Vector Machine\n",
    "\n",
    "from sklearn.linear_model import SGDClassifier\n",
    "\n",
    "sgd = Pipeline([('vect', CountVectorizer()),\n",
    "               ('tfidf', TfidfTransformer()),\n",
    "               ('clf', SGDClassifier(loss='hinge', penalty='l2',alpha=1e-3, random_state=42, max_iter=5, tol=None)),\n",
    "               ])\n",
    "\n",
    "sgd.fit(X_train, y_train)\n",
    "\n",
    "y_pred = sgd.predict(X_test)\n",
    "\n",
    "print('accuracy %s' % accuracy_score(y_pred, y_test))\n",
    "print(classification_report(y_test, y_pred,target_names=my_tags))"
   ]
  },
  {
   "cell_type": "code",
   "execution_count": 52,
   "metadata": {},
   "outputs": [
    {
     "name": "stdout",
     "output_type": "stream",
     "text": [
      "accuracy 0.7816666666666666\n",
      "               precision    recall  f1-score   support\n",
      "\n",
      "   javascript       0.70      0.62      0.66       613\n",
      "ruby-on-rails       0.91      0.91      0.91       620\n",
      "      android       0.97      0.94      0.95       587\n",
      "          c++       0.77      0.77      0.77       586\n",
      "         java       0.77      0.81      0.79       599\n",
      "        mysql       0.59      0.58      0.58       589\n",
      "           c#       0.77      0.76      0.76       594\n",
      "       jquery       0.82      0.85      0.83       610\n",
      "            c       0.69      0.71      0.70       617\n",
      "         html       0.61      0.59      0.60       587\n",
      "       python       0.64      0.64      0.64       611\n",
      "          sql       0.82      0.83      0.83       594\n",
      "       iphone       0.78      0.77      0.77       619\n",
      "          ios       0.84      0.85      0.84       574\n",
      "  objective-c       0.80      0.83      0.82       584\n",
      "      asp.net       0.65      0.64      0.64       578\n",
      "    angularjs       0.82      0.85      0.83       591\n",
      "          php       0.91      0.91      0.91       608\n",
      "          css       0.96      0.94      0.95       638\n",
      "         .net       0.78      0.83      0.80       601\n",
      "\n",
      "    micro avg       0.78      0.78      0.78     12000\n",
      "    macro avg       0.78      0.78      0.78     12000\n",
      " weighted avg       0.78      0.78      0.78     12000\n",
      "\n"
     ]
    }
   ],
   "source": [
    "# Logistic Regression\n",
    "\n",
    "from sklearn.linear_model import LogisticRegression\n",
    "\n",
    "logreg = Pipeline([('vect', CountVectorizer()),\n",
    "                ('tfidf', TfidfTransformer()),\n",
    "                ('clf', LogisticRegression(n_jobs=1, C=1e5)),\n",
    "               ])\n",
    "logreg.fit(X_train, y_train)\n",
    "\n",
    "y_pred = logreg.predict(X_test)\n",
    "\n",
    "print('accuracy %s' % accuracy_score(y_pred, y_test))\n",
    "print(classification_report(y_test, y_pred,target_names=my_tags))"
   ]
  },
  {
   "cell_type": "code",
   "execution_count": null,
   "metadata": {},
   "outputs": [],
   "source": []
  },
  {
   "cell_type": "code",
   "execution_count": null,
   "metadata": {},
   "outputs": [],
   "source": []
  },
  {
   "cell_type": "code",
   "execution_count": null,
   "metadata": {},
   "outputs": [],
   "source": []
  }
 ],
 "metadata": {
  "kernelspec": {
   "display_name": "Python 3",
   "language": "python",
   "name": "python3"
  },
  "language_info": {
   "codemirror_mode": {
    "name": "ipython",
    "version": 3
   },
   "file_extension": ".py",
   "mimetype": "text/x-python",
   "name": "python",
   "nbconvert_exporter": "python",
   "pygments_lexer": "ipython3",
   "version": "3.7.1"
  }
 },
 "nbformat": 4,
 "nbformat_minor": 2
}
